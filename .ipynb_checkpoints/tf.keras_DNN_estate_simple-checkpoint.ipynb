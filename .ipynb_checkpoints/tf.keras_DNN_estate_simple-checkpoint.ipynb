{
 "cells": [
  {
   "cell_type": "code",
   "execution_count": 2,
   "metadata": {},
   "outputs": [
    {
     "name": "stdout",
     "output_type": "stream",
     "text": [
      "Index(['No', 'X1 transaction date', 'X2 house age',\n",
      "       'X3 distance to the nearest MRT station',\n",
      "       'X4 number of convenience stores', 'X5 latitude', 'X6 longitude',\n",
      "       'Y house price of unit area'],\n",
      "      dtype='object')\n"
     ]
    }
   ],
   "source": [
    "import numpy as np\n",
    "import pandas as pd\n",
    "from pandas import ExcelFile\n",
    "import tensorflow as tf\n",
    "from tensorflow.keras import layers  #모듈(변수나 함수를 포함)만 불러오기\n",
    "from sklearn.preprocessing import StandardScaler, MinMaxScaler  #표준 정규화, 최대-최소 정규화\n",
    "\n",
    "#df = pd.read_excel('File.xlsx', sheetname='Sheet1') #sheet명도 지정할 수 있음\n",
    "df = pd.read_excel('Real estate valuation data set.xlsx')\n",
    "\n",
    "print(df.columns)"
   ]
  },
  {
   "cell_type": "code",
   "execution_count": 3,
   "metadata": {},
   "outputs": [],
   "source": [
    "# df에서 모든행, 0~6열만 split (pandas의 data를 number index로 slicing 하는 방법)\n",
    "X = df.iloc[:,1:7]  \n",
    "# df에서 모든행, 6열만 split2.\n",
    "y = df.iloc[:,7]    "
   ]
  },
  {
   "cell_type": "code",
   "execution_count": 4,
   "metadata": {},
   "outputs": [
    {
     "name": "stderr",
     "output_type": "stream",
     "text": [
      "C:\\anaconda\\lib\\site-packages\\sklearn\\preprocessing\\data.py:334: DataConversionWarning: Data with input dtype int64, float64 were all converted to float64 by MinMaxScaler.\n",
      "  return self.partial_fit(X, y)\n"
     ]
    }
   ],
   "source": [
    "# 모든 컬럼을 유사하고 적절한 구간으로 정규화 하기\n",
    "# StandardScaler()   #각 컬럼들에 min-max scaling 또는 z-score normalization 적용\n",
    "scaler = MinMaxScaler()   \n",
    "X_norm = scaler.fit_transform(X)"
   ]
  },
  {
   "cell_type": "code",
   "execution_count": 6,
   "metadata": {},
   "outputs": [],
   "source": [
    "# X는 정규화하는 과정에서 numpy Type으로 바뀌지만 y는 그렇지 않기 때문에 아래와 같이 numpy타입으로 바꿔준다.\n",
    "\n",
    "numpY = np.empty((414,1)) \n",
    "for i in range(414):\n",
    "    numpY[i]=y[i]\n",
    "\n",
    "# training set과 test set으로 나누기\n",
    "X_train, y_train = X_norm[0:300], numpY[0:300]\n",
    "X_test,  y_test  = X_norm[300:414], numpY[300:414]"
   ]
  },
  {
   "cell_type": "code",
   "execution_count": 7,
   "metadata": {
    "scrolled": true
   },
   "outputs": [],
   "source": [
    "# 모델 구조 정의하기\n",
    "model = tf.keras.Sequential()  \n",
    "\n",
    "#입력 8개로부터 전달받는 12개 노드의 layer 생성\n",
    "model.add(layers.Dense(12, input_shape=(6,)))  \n",
    "model.add(layers.Activation('relu'))  \n",
    "\n",
    "model.add(layers.Dense(12))         \n",
    "model.add(layers.Activation('relu'))\n",
    "\n",
    "model.add(layers.Dense(12))         \n",
    "model.add(layers.Activation('relu'))\n",
    "\n",
    "#회귀모형(regression) 구축을 위해서 linear 활성함수 사용\n",
    "model.add(layers.Dense(1))\n",
    "model.add(layers.Activation('linear')) \n",
    "\n",
    "# 모델 구축하기\n",
    "model.compile(\n",
    "        loss='mse',         # mean_squared_error(평균제곱오차)의 alias\n",
    "        optimizer='adam',   # 최적화 기법 중 하나\n",
    "        metrics=['mae'])    # 실험 후 관찰하고 싶은 metric 들을 나열함. "
   ]
  },
  {
   "cell_type": "code",
   "execution_count": 8,
   "metadata": {
    "scrolled": false
   },
   "outputs": [
    {
     "name": "stdout",
     "output_type": "stream",
     "text": [
      "Train on 240 samples, validate on 60 samples\n",
      "Epoch 1/100\n",
      "240/240 - 1s - loss: 1606.7412 - mae: 37.7669 - val_loss: 1551.6934 - val_mae: 36.1908\n",
      "Epoch 2/100\n",
      "240/240 - 0s - loss: 1571.0826 - mae: 37.2875 - val_loss: 1512.1220 - val_mae: 35.6379\n",
      "Epoch 3/100\n",
      "240/240 - 0s - loss: 1517.4201 - mae: 36.5614 - val_loss: 1451.3728 - val_mae: 34.7706\n",
      "Epoch 4/100\n",
      "240/240 - 0s - loss: 1432.7480 - mae: 35.3795 - val_loss: 1349.7511 - val_mae: 33.2735\n",
      "Epoch 5/100\n",
      "240/240 - 0s - loss: 1288.9806 - mae: 33.2471 - val_loss: 1171.4475 - val_mae: 30.4647\n",
      "Epoch 6/100\n",
      "240/240 - 0s - loss: 1046.3543 - mae: 29.4571 - val_loss: 905.3572 - val_mae: 25.7119\n",
      "Epoch 7/100\n",
      "240/240 - 0s - loss: 725.3201 - mae: 23.5119 - val_loss: 594.3724 - val_mae: 19.0684\n",
      "Epoch 8/100\n",
      "240/240 - 0s - loss: 412.0449 - mae: 16.5441 - val_loss: 344.6700 - val_mae: 12.6419\n",
      "Epoch 9/100\n",
      "240/240 - 0s - loss: 217.7010 - mae: 11.8413 - val_loss: 254.0380 - val_mae: 10.2016\n",
      "Epoch 10/100\n",
      "240/240 - 0s - loss: 168.6223 - mae: 10.5869 - val_loss: 242.3840 - val_mae: 10.4244\n",
      "Epoch 11/100\n",
      "240/240 - 0s - loss: 158.6492 - mae: 10.4005 - val_loss: 235.2553 - val_mae: 10.0983\n",
      "Epoch 12/100\n",
      "240/240 - 0s - loss: 150.6869 - mae: 10.1405 - val_loss: 229.5120 - val_mae: 10.0580\n",
      "Epoch 13/100\n",
      "240/240 - 0s - loss: 143.9100 - mae: 9.9000 - val_loss: 223.1475 - val_mae: 9.7204\n",
      "Epoch 14/100\n",
      "240/240 - 0s - loss: 137.0470 - mae: 9.6873 - val_loss: 217.9477 - val_mae: 9.6530\n",
      "Epoch 15/100\n",
      "240/240 - 0s - loss: 131.2408 - mae: 9.5030 - val_loss: 213.5937 - val_mae: 9.6502\n",
      "Epoch 16/100\n",
      "240/240 - 0s - loss: 124.5695 - mae: 9.1985 - val_loss: 208.4095 - val_mae: 9.3046\n",
      "Epoch 17/100\n",
      "240/240 - 0s - loss: 119.7485 - mae: 9.0174 - val_loss: 204.4508 - val_mae: 9.3136\n",
      "Epoch 18/100\n",
      "240/240 - 0s - loss: 114.6219 - mae: 8.8103 - val_loss: 200.4015 - val_mae: 9.1597\n",
      "Epoch 19/100\n",
      "240/240 - 0s - loss: 109.7952 - mae: 8.6100 - val_loss: 196.9260 - val_mae: 9.0636\n",
      "Epoch 20/100\n",
      "240/240 - 0s - loss: 105.5594 - mae: 8.4332 - val_loss: 193.6492 - val_mae: 8.9381\n",
      "Epoch 21/100\n",
      "240/240 - 0s - loss: 101.9755 - mae: 8.2788 - val_loss: 190.2807 - val_mae: 8.7771\n",
      "Epoch 22/100\n",
      "240/240 - 0s - loss: 98.3214 - mae: 8.0850 - val_loss: 187.0917 - val_mae: 8.5963\n",
      "Epoch 23/100\n",
      "240/240 - 0s - loss: 94.9216 - mae: 7.9031 - val_loss: 185.4528 - val_mae: 8.6189\n",
      "Epoch 24/100\n",
      "240/240 - 0s - loss: 92.0890 - mae: 7.7475 - val_loss: 182.7083 - val_mae: 8.4478\n",
      "Epoch 25/100\n",
      "240/240 - 0s - loss: 89.2379 - mae: 7.6031 - val_loss: 180.7813 - val_mae: 8.3622\n",
      "Epoch 26/100\n",
      "240/240 - 0s - loss: 86.6990 - mae: 7.4742 - val_loss: 178.0141 - val_mae: 8.1270\n",
      "Epoch 27/100\n",
      "240/240 - 0s - loss: 84.2263 - mae: 7.3209 - val_loss: 177.0599 - val_mae: 8.1516\n",
      "Epoch 28/100\n",
      "240/240 - 0s - loss: 82.2471 - mae: 7.2507 - val_loss: 175.7172 - val_mae: 8.0848\n",
      "Epoch 29/100\n",
      "240/240 - 0s - loss: 80.4080 - mae: 7.0922 - val_loss: 173.1857 - val_mae: 7.8402\n",
      "Epoch 30/100\n",
      "240/240 - 0s - loss: 78.3243 - mae: 6.9920 - val_loss: 172.4394 - val_mae: 7.8452\n",
      "Epoch 31/100\n",
      "240/240 - 0s - loss: 77.9132 - mae: 6.8442 - val_loss: 170.5388 - val_mae: 7.6488\n",
      "Epoch 32/100\n",
      "240/240 - 0s - loss: 75.3458 - mae: 6.8262 - val_loss: 171.0587 - val_mae: 7.8054\n",
      "Epoch 33/100\n",
      "240/240 - 0s - loss: 74.3500 - mae: 6.6751 - val_loss: 168.1984 - val_mae: 7.4704\n",
      "Epoch 34/100\n",
      "240/240 - 0s - loss: 72.5799 - mae: 6.6054 - val_loss: 168.3453 - val_mae: 7.5738\n",
      "Epoch 35/100\n",
      "240/240 - 0s - loss: 71.6560 - mae: 6.5382 - val_loss: 166.9474 - val_mae: 7.4459\n",
      "Epoch 36/100\n",
      "240/240 - 0s - loss: 70.7918 - mae: 6.4218 - val_loss: 165.9172 - val_mae: 7.3455\n",
      "Epoch 37/100\n",
      "240/240 - 0s - loss: 69.4542 - mae: 6.3769 - val_loss: 166.3290 - val_mae: 7.4456\n",
      "Epoch 38/100\n",
      "240/240 - 0s - loss: 68.9174 - mae: 6.3900 - val_loss: 165.0209 - val_mae: 7.3177\n",
      "Epoch 39/100\n",
      "240/240 - 0s - loss: 68.2855 - mae: 6.1774 - val_loss: 163.2599 - val_mae: 7.0767\n",
      "Epoch 40/100\n",
      "240/240 - 0s - loss: 67.1454 - mae: 6.1940 - val_loss: 164.5321 - val_mae: 7.3007\n",
      "Epoch 41/100\n",
      "240/240 - 0s - loss: 66.2966 - mae: 6.1093 - val_loss: 162.8263 - val_mae: 7.1086\n",
      "Epoch 42/100\n",
      "240/240 - 0s - loss: 65.6860 - mae: 6.0945 - val_loss: 162.8292 - val_mae: 7.1452\n",
      "Epoch 43/100\n",
      "240/240 - 0s - loss: 64.7971 - mae: 6.0210 - val_loss: 161.2358 - val_mae: 6.9583\n",
      "Epoch 44/100\n",
      "240/240 - 0s - loss: 64.9716 - mae: 5.9024 - val_loss: 161.1698 - val_mae: 6.9944\n",
      "Epoch 45/100\n",
      "240/240 - 0s - loss: 63.9510 - mae: 5.9944 - val_loss: 161.6710 - val_mae: 7.0886\n",
      "Epoch 46/100\n",
      "240/240 - 0s - loss: 63.0551 - mae: 5.8819 - val_loss: 160.0465 - val_mae: 6.9152\n",
      "Epoch 47/100\n",
      "240/240 - 0s - loss: 62.6311 - mae: 5.8442 - val_loss: 159.6613 - val_mae: 6.8897\n",
      "Epoch 48/100\n",
      "240/240 - 0s - loss: 62.1369 - mae: 5.7913 - val_loss: 159.5597 - val_mae: 6.9153\n",
      "Epoch 49/100\n",
      "240/240 - 0s - loss: 61.7476 - mae: 5.7556 - val_loss: 158.8704 - val_mae: 6.8444\n",
      "Epoch 50/100\n",
      "240/240 - 0s - loss: 61.1909 - mae: 5.7426 - val_loss: 159.0315 - val_mae: 6.8908\n",
      "Epoch 51/100\n",
      "240/240 - 0s - loss: 61.0535 - mae: 5.7606 - val_loss: 158.1636 - val_mae: 6.8073\n",
      "Epoch 52/100\n",
      "240/240 - 0s - loss: 60.9501 - mae: 5.6573 - val_loss: 157.7147 - val_mae: 6.7638\n",
      "Epoch 53/100\n",
      "240/240 - 0s - loss: 60.3871 - mae: 5.6783 - val_loss: 158.2993 - val_mae: 6.8888\n",
      "Epoch 54/100\n",
      "240/240 - 0s - loss: 59.7466 - mae: 5.6020 - val_loss: 156.7537 - val_mae: 6.6692\n",
      "Epoch 55/100\n",
      "240/240 - 0s - loss: 59.8878 - mae: 5.6489 - val_loss: 156.9655 - val_mae: 6.7485\n",
      "Epoch 56/100\n",
      "240/240 - 0s - loss: 59.7446 - mae: 5.5346 - val_loss: 156.8504 - val_mae: 6.7592\n",
      "Epoch 57/100\n",
      "240/240 - 0s - loss: 59.5605 - mae: 5.6704 - val_loss: 157.2074 - val_mae: 6.8485\n",
      "Epoch 58/100\n",
      "240/240 - 0s - loss: 59.1410 - mae: 5.5294 - val_loss: 157.1540 - val_mae: 6.8605\n",
      "Epoch 59/100\n",
      "240/240 - 0s - loss: 58.4848 - mae: 5.5701 - val_loss: 156.3050 - val_mae: 6.7688\n",
      "Epoch 60/100\n",
      "240/240 - 0s - loss: 58.3586 - mae: 5.4779 - val_loss: 155.8511 - val_mae: 6.7265\n",
      "Epoch 61/100\n",
      "240/240 - 0s - loss: 58.1213 - mae: 5.5224 - val_loss: 156.5724 - val_mae: 6.8556\n",
      "Epoch 62/100\n",
      "240/240 - 0s - loss: 57.9595 - mae: 5.4801 - val_loss: 154.3990 - val_mae: 6.5720\n",
      "Epoch 63/100\n",
      "240/240 - 0s - loss: 57.7081 - mae: 5.4558 - val_loss: 156.3648 - val_mae: 6.8716\n",
      "Epoch 64/100\n",
      "240/240 - 0s - loss: 57.4902 - mae: 5.4524 - val_loss: 155.4331 - val_mae: 6.7722\n",
      "Epoch 65/100\n",
      "240/240 - 0s - loss: 57.1615 - mae: 5.4342 - val_loss: 154.8364 - val_mae: 6.7167\n",
      "Epoch 66/100\n",
      "240/240 - 0s - loss: 56.9522 - mae: 5.4260 - val_loss: 154.4350 - val_mae: 6.6859\n",
      "Epoch 67/100\n",
      "240/240 - 0s - loss: 56.7949 - mae: 5.4232 - val_loss: 155.0544 - val_mae: 6.7754\n",
      "Epoch 68/100\n",
      "240/240 - 0s - loss: 57.0711 - mae: 5.3804 - val_loss: 155.1823 - val_mae: 6.8107\n",
      "Epoch 69/100\n",
      "240/240 - 0s - loss: 56.7344 - mae: 5.4434 - val_loss: 153.5704 - val_mae: 6.6241\n",
      "Epoch 70/100\n",
      "240/240 - 0s - loss: 56.4727 - mae: 5.4186 - val_loss: 155.4275 - val_mae: 6.8800\n",
      "Epoch 71/100\n",
      "240/240 - 0s - loss: 56.2901 - mae: 5.3330 - val_loss: 152.8715 - val_mae: 6.5638\n",
      "Epoch 72/100\n",
      "240/240 - 0s - loss: 55.9234 - mae: 5.3707 - val_loss: 153.7811 - val_mae: 6.7034\n",
      "Epoch 73/100\n",
      "240/240 - 0s - loss: 55.6111 - mae: 5.3467 - val_loss: 153.5082 - val_mae: 6.6818\n",
      "Epoch 74/100\n",
      "240/240 - 0s - loss: 55.4616 - mae: 5.3335 - val_loss: 153.0430 - val_mae: 6.6446\n",
      "Epoch 75/100\n",
      "240/240 - 0s - loss: 55.1610 - mae: 5.3392 - val_loss: 153.7806 - val_mae: 6.7544\n",
      "Epoch 76/100\n",
      "240/240 - 0s - loss: 55.0761 - mae: 5.3364 - val_loss: 152.8708 - val_mae: 6.6643\n",
      "Epoch 77/100\n",
      "240/240 - 0s - loss: 54.9675 - mae: 5.2976 - val_loss: 152.3723 - val_mae: 6.6448\n",
      "Epoch 78/100\n",
      "240/240 - 0s - loss: 54.8209 - mae: 5.3143 - val_loss: 153.6202 - val_mae: 6.8221\n",
      "Epoch 79/100\n",
      "240/240 - 0s - loss: 54.9435 - mae: 5.3270 - val_loss: 153.3567 - val_mae: 6.8285\n",
      "Epoch 80/100\n",
      "240/240 - 0s - loss: 54.3355 - mae: 5.3155 - val_loss: 151.4396 - val_mae: 6.6039\n",
      "Epoch 81/100\n",
      "240/240 - 0s - loss: 54.5633 - mae: 5.2765 - val_loss: 152.1487 - val_mae: 6.6923\n",
      "Epoch 82/100\n",
      "240/240 - 0s - loss: 54.1125 - mae: 5.2880 - val_loss: 151.0200 - val_mae: 6.5911\n",
      "Epoch 83/100\n",
      "240/240 - 0s - loss: 54.2129 - mae: 5.2860 - val_loss: 150.5617 - val_mae: 6.5437\n",
      "Epoch 84/100\n",
      "240/240 - 0s - loss: 54.2275 - mae: 5.2583 - val_loss: 152.2659 - val_mae: 6.7583\n",
      "Epoch 85/100\n",
      "240/240 - 0s - loss: 54.0225 - mae: 5.2493 - val_loss: 152.0362 - val_mae: 6.7438\n",
      "Epoch 86/100\n",
      "240/240 - 0s - loss: 53.9097 - mae: 5.2411 - val_loss: 151.1350 - val_mae: 6.6760\n"
     ]
    },
    {
     "name": "stdout",
     "output_type": "stream",
     "text": [
      "Epoch 87/100\n",
      "240/240 - 0s - loss: 53.8520 - mae: 5.3140 - val_loss: 151.3941 - val_mae: 6.7069\n",
      "Epoch 88/100\n",
      "240/240 - 0s - loss: 53.4083 - mae: 5.2062 - val_loss: 150.4849 - val_mae: 6.6133\n",
      "Epoch 89/100\n",
      "240/240 - 0s - loss: 53.7113 - mae: 5.2646 - val_loss: 150.8342 - val_mae: 6.6747\n",
      "Epoch 90/100\n",
      "240/240 - 0s - loss: 53.3806 - mae: 5.2303 - val_loss: 150.5217 - val_mae: 6.6416\n",
      "Epoch 91/100\n",
      "240/240 - 0s - loss: 53.2573 - mae: 5.1880 - val_loss: 149.5415 - val_mae: 6.5384\n",
      "Epoch 92/100\n",
      "240/240 - 0s - loss: 53.1968 - mae: 5.2076 - val_loss: 150.6945 - val_mae: 6.6822\n",
      "Epoch 93/100\n",
      "240/240 - 0s - loss: 53.0494 - mae: 5.1941 - val_loss: 149.1320 - val_mae: 6.5110\n",
      "Epoch 94/100\n",
      "240/240 - 0s - loss: 53.3122 - mae: 5.2001 - val_loss: 149.8125 - val_mae: 6.6123\n",
      "Epoch 95/100\n",
      "240/240 - 0s - loss: 53.4814 - mae: 5.1769 - val_loss: 150.7502 - val_mae: 6.7428\n",
      "Epoch 96/100\n",
      "240/240 - 0s - loss: 53.3900 - mae: 5.2634 - val_loss: 148.8507 - val_mae: 6.5240\n",
      "Epoch 97/100\n",
      "240/240 - 0s - loss: 53.1342 - mae: 5.1689 - val_loss: 148.4684 - val_mae: 6.4734\n",
      "Epoch 98/100\n",
      "240/240 - 0s - loss: 52.7749 - mae: 5.1955 - val_loss: 150.4326 - val_mae: 6.7490\n",
      "Epoch 99/100\n",
      "240/240 - 0s - loss: 52.3306 - mae: 5.1601 - val_loss: 149.2145 - val_mae: 6.6136\n",
      "Epoch 100/100\n",
      "240/240 - 0s - loss: 52.6569 - mae: 5.1360 - val_loss: 149.1795 - val_mae: 6.6048\n",
      "114/1 [============================================================================================================================================================================================================================================================================================================================================================================================================================================================================================================================================================================================================================================================================================================================================================================================================================================================================================================================================================================================================================================================================================================================================================================================================================================================================================================================================================================================================================================================================================================================================================================================================================================================================================================================================================================================================================================================================================================================================================================================================================================================================================================================================================================================================================================================================================================================================================================================================================================================================================================================================================================================================================================================================================================================================================================================================================================================================================================================================================================================================================================================================================================================================================================================================================================================================================================================================================================================================================================================================================================================================================] - 0s 658us/sample - loss: 50.6085 - mae: 5.7897\n",
      "test_loss:  61.18677326670864\n",
      "test_mae:  5.7896733\n"
     ]
    }
   ],
   "source": [
    "'''\n",
    "10개에 한 번씩 업데이터 실행\n",
    "0:미출력, 1:진행상황출력, 2:에포크당 출력\n",
    "'''\n",
    "hist = model.fit(\n",
    "    X_train, y_train,\n",
    "    batch_size=10,    \n",
    "    epochs=100,       \n",
    "    validation_split=0.2,  \n",
    "    callbacks=[tf.keras.callbacks.EarlyStopping(monitor='val_loss', patience=10)],  \n",
    "    verbose=2) \n",
    "\n",
    "# 테스트 데이터 입력\n",
    "scores = model.evaluate(X_test, y_test)\n",
    "print('test_loss: ', scores[0])\n",
    "print('test_mae: ', scores[1])\n",
    "\n",
    "# 모델 저장\n",
    "model.save(\"dnn_estate.h5\")"
   ]
  },
  {
   "cell_type": "code",
   "execution_count": 9,
   "metadata": {},
   "outputs": [
    {
     "name": "stdout",
     "output_type": "stream",
     "text": [
      "loss: 61.19\n",
      "mae: 5.79\n"
     ]
    }
   ],
   "source": [
    "# 관찰된 metric 값들을 확인함\n",
    "for i in range(len(scores)):\n",
    "    print(\"%s: %.2f\" % (model.metrics_names[i], scores[i]))"
   ]
  },
  {
   "cell_type": "code",
   "execution_count": 11,
   "metadata": {
    "scrolled": true
   },
   "outputs": [
    {
     "data": {
      "image/png": "[encoded data removed]",
      "text/plain": [
       "<Figure size 1080x360 with 2 Axes>"
      ]
     },
     "metadata": {
      "needs_background": "light"
     },
     "output_type": "display_data"
    }
   ],
   "source": [
    "import matplotlib.pyplot as plt\n",
    "\n",
    "fig, loss_ax = plt.subplots(figsize=(15, 5))\n",
    "\n",
    "acc_ax = loss_ax.twinx()\n",
    "\n",
    "loss_ax.plot(hist.history['loss'], 'y', label='train loss')   # 훈련데이터의 loss (즉, mse)\n",
    "loss_ax.plot(hist.history['val_loss'], 'r', label='val loss') # 검증데이터의 loss (즉, mse)\n",
    "\n",
    "acc_ax.plot(hist.history['mae'], 'b', label='train mae')   # 훈련데이터의 mae\n",
    "acc_ax.plot(hist.history['val_mae'], 'g', label='val mae') # 검증데이터의 mae\n",
    "\n",
    "loss_ax.set_xlabel('epoch')\n",
    "loss_ax.set_ylabel('loss')\n",
    "acc_ax.set_ylabel('mean_absolute_error')\n",
    "\n",
    "loss_ax.legend(loc='upper left')\n",
    "acc_ax.legend(loc='lower left')\n",
    "\n",
    "plt.show()"
   ]
  },
  {
   "cell_type": "markdown",
   "metadata": {},
   "source": [
    "#### **예측결과 확인해보기**"
   ]
  },
  {
   "cell_type": "code",
   "execution_count": 12,
   "metadata": {},
   "outputs": [
    {
     "data": {
      "image/png": "[encoded data removed]",
      "text/plain": [
       "<Figure size 720x720 with 1 Axes>"
      ]
     },
     "metadata": {
      "needs_background": "light"
     },
     "output_type": "display_data"
    }
   ],
   "source": [
    "import matplotlib.pyplot as plt\n",
    "\n",
    "# test data에 대한 예측값\n",
    "y_pred = model.predict(X_test)\n",
    "\n",
    "# 그림 가로, 세로 크기\n",
    "plt.figure(figsize=(10,10))  \n",
    "\n",
    "#test data의 실제 y값과 예측 y값을 입력 => y=x 그래프와 가까울수록 정확\n",
    "plt.scatter(y_test, y_pred, label=\"house price per unit\", s=3)  \n",
    "plt.title('Comparison b/w Actual and Predicted Values')\n",
    "\n",
    "# X축 이름\n",
    "plt.xlabel('y_actual')   \n",
    "# Y축 이름\n",
    "plt.ylabel('y_predicted')\n",
    "\n",
    "# 범례표시\n",
    "plt.legend()\n",
    "\n",
    "# X축 표시 범위, Y축 표시 범위 \n",
    "plt.xlim((0,100))  \n",
    "plt.ylim((0,100))  \n",
    "\n",
    "plt.show()"
   ]
  },
  {
   "cell_type": "markdown",
   "metadata": {},
   "source": [
    "#### **저장된 모형 불러와서 사용하기**"
   ]
  },
  {
   "cell_type": "code",
   "execution_count": 14,
   "metadata": {
    "scrolled": true
   },
   "outputs": [],
   "source": [
    "# 필요모듈\n",
    "from tensorflow.python.keras.models import load_model\n",
    "\n",
    "# 모델 불러오기\n",
    "loaded_model = load_model(\"dnn_estate.h5\")"
   ]
  },
  {
   "cell_type": "code",
   "execution_count": 15,
   "metadata": {},
   "outputs": [
    {
     "name": "stdout",
     "output_type": "stream",
     "text": [
      "Model: \"sequential\"\n",
      "_________________________________________________________________\n",
      "Layer (type)                 Output Shape              Param #   \n",
      "=================================================================\n",
      "dense (Dense)                (None, 12)                84        \n",
      "_________________________________________________________________\n",
      "activation (Activation)      (None, 12)                0         \n",
      "_________________________________________________________________\n",
      "dense_1 (Dense)              (None, 12)                156       \n",
      "_________________________________________________________________\n",
      "activation_1 (Activation)    (None, 12)                0         \n",
      "_________________________________________________________________\n",
      "dense_2 (Dense)              (None, 12)                156       \n",
      "_________________________________________________________________\n",
      "activation_2 (Activation)    (None, 12)                0         \n",
      "_________________________________________________________________\n",
      "dense_3 (Dense)              (None, 1)                 13        \n",
      "_________________________________________________________________\n",
      "activation_3 (Activation)    (None, 1)                 0         \n",
      "=================================================================\n",
      "Total params: 409\n",
      "Trainable params: 409\n",
      "Non-trainable params: 0\n",
      "_________________________________________________________________\n",
      "114/1 [============================================================================================================================================================================================================================================================================================================================================================================================================================================================================================================================================================================================================================================================================================================================================================================================================================================================================================================================================================================================================================================================================================================================================================================================================================================================================================================================================================================================================================================================================================================================================================================================================================================================================================================================================================================================================================================================================================================================================================================================================================================================================================================================================================================================================================================================================================================================================================================================================================================================================================================================================================================================================================================================================================================================================================================================================================================================================================================================================================================================================================================================================================================================================================================================================================================================================================================================================================================================================================================================================================================================================================] - 0s 44us/sample - loss: 50.6085 - mae: 5.7897\n",
      "test_loss:  61.18677326670864\n",
      "test_mse:  5.7896733\n"
     ]
    }
   ],
   "source": [
    "model.summary()\n",
    "\n",
    "score = model.evaluate(X_test, y_test)\n",
    "print('test_loss: ', score[0])\n",
    "print('test_mse: ', score[1])"
   ]
  },
  {
   "cell_type": "markdown",
   "metadata": {},
   "source": [
    "#### **한 값만 예측해보기**\n",
    "regression은 predict() 함수를 사용해야 함.\n",
    "cf. classification은 predict_classes() 함수를 사용함.<br>\n",
    "(각 class 소속 확률은 predict_proba() 함수로 확인 가능)"
   ]
  },
  {
   "cell_type": "code",
   "execution_count": 16,
   "metadata": {},
   "outputs": [
    {
     "name": "stdout",
     "output_type": "stream",
     "text": [
      "y_pred =  [[47.295647]]\n",
      "y_test =  36.9\n",
      "y_pred =  [[47.295116]]\n",
      "y_actual =  [36.9]\n"
     ]
    }
   ],
   "source": [
    "# 한값만 예측\n",
    "\n",
    "# 정규화된 X 값\n",
    "y_pred = model.predict(X_norm[[300]])\n",
    "print('y_pred = ', y_pred)\n",
    "print('y_test = ', y[300])\n",
    "\n",
    "# 정규화 되지 않은 새로운 X값\n",
    "X_new = [2013.08300, 2.50000, 156.24420, 4.00000, 24.96696, 121.53992]  \n",
    "# X를 정규화\n",
    "X_new_norm = scaler.transform([X_new])   \n",
    "\n",
    "y_pred = model.predict(np.array(X_new_norm,))\n",
    "print(\"y_pred = \", y_pred)\n",
    "print(\"y_actual = \", y_test[0])"
   ]
  }
 ],
 "metadata": {
  "kernelspec": {
   "display_name": "Python 3",
   "language": "python",
   "name": "python3"
  },
  "language_info": {
   "codemirror_mode": {
    "name": "ipython",
    "version": 3
   },
   "file_extension": ".py",
   "mimetype": "text/x-python",
   "name": "python",
   "nbconvert_exporter": "python",
   "pygments_lexer": "ipython3",
   "version": "3.7.3"
  }
 },
 "nbformat": 4,
 "nbformat_minor": 2
}
